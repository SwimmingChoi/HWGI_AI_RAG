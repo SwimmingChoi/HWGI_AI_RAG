{
 "cells": [
  {
   "cell_type": "markdown",
   "metadata": {},
   "source": [
    "### html to markdown"
   ]
  },
  {
   "cell_type": "code",
   "execution_count": 1,
   "metadata": {},
   "outputs": [],
   "source": [
    "import html2text\n",
    "\n",
    "def html_to_markdown(html_content):\n",
    "    # html2text 객체 생성\n",
    "    markdown_converter = html2text.HTML2Text()\n",
    "\n",
    "    # 설정: 링크를 단순 텍스트로, 내부 줄바꿈 제거\n",
    "    markdown_converter.ignore_links = False\n",
    "    markdown_converter.body_width = 0\n",
    "\n",
    "    # HTML -> Markdown 변환\n",
    "    markdown_content = markdown_converter.handle(html_content)\n",
    "\n",
    "    # 결과 출력\n",
    "    return markdown_content"
   ]
  },
  {
   "cell_type": "code",
   "execution_count": 9,
   "metadata": {},
   "outputs": [],
   "source": [
    "import pandas as pd\n",
    "\n",
    "df = pd.read_excel('documents/QnA_car_sample_30_context_labeling.xlsx')\n",
    "\n",
    "df = df[df['ground truth page content'].notna()]\n",
    "df['ground truth page content'] = df['ground truth page content'].apply(html_to_markdown)\n",
    "\n",
    "df.to_excel('documents/QnA_car_sample_30_context_labeling_markdown.xlsx', index=False)"
   ]
  },
  {
   "cell_type": "code",
   "execution_count": 3,
   "metadata": {},
   "outputs": [],
   "source": [
    "import json\n",
    "\n",
    "with open('documents/car_page_upstage_ver.json', 'r') as file:\n",
    "    data = json.load(file)\n",
    "\n",
    "data = {k: html_to_markdown(v) for k, v in data.items()}\n",
    "\n",
    "with open('documents/car_page_upstage_ver_markdown.json', 'w') as file:\n",
    "    json.dump(data, file, ensure_ascii=False, indent=4)"
   ]
  },
  {
   "cell_type": "code",
   "execution_count": 13,
   "metadata": {},
   "outputs": [
    {
     "name": "stdout",
     "output_type": "stream",
     "text": [
      "dense_sts_chunking_500_100_rerank_3\n",
      "dense_sts_chunking_500_100_no_reranker\n",
      "sparse_bm25_chunking_500_100_rerank_3\n",
      "sparse_bm25_chunking_500_100_no_reranker\n",
      "dense_sts_full_page_rerank_3\n",
      "dense_sts_full_page_no_reranker\n",
      "sparse_bm25_full_page_rerank_3\n",
      "sparse_bm25_full_page_no_reranker\n"
     ]
    }
   ],
   "source": [
    "import json\n",
    "\n",
    "results_file = 'result_20250131_q_QnA_car_sample_30_context_labeling_markdown.json'\n",
    "results_path = f'results/{results_file}'\n",
    "\n",
    "with open(results_path, 'r') as file:\n",
    "    results = json.load(file)\n",
    "\n",
    "for method in results[0]['llm response'].keys():\n",
    "    print(method)\n"
   ]
  },
  {
   "cell_type": "code",
   "execution_count": 19,
   "metadata": {},
   "outputs": [],
   "source": [
    "# JSON을 DataFrame으로 변환\n",
    "data = []\n",
    "for method in results[0]['llm response'].keys():\n",
    "    for i in range(len(results)):\n",
    "        data.append({\n",
    "        \"question\": results[i]['question'],\n",
    "        \"ground truth answer\": results[i]['ground truth answer'],\n",
    "        \"ground truth page contents\": results[i]['ground truth answer context'],\n",
    "        \"method\": method,\n",
    "        \"rag answer\": results[i]['llm response'][method]['answer'],\n",
    "        \"rag answer page contents\": results[i]['llm response'][method]['page contents']\n",
    "    })\n",
    "\n",
    "df = pd.DataFrame(data)"
   ]
  },
  {
   "cell_type": "code",
   "execution_count": 7,
   "metadata": {},
   "outputs": [],
   "source": [
    "from bs4 import BeautifulSoup\n",
    "\n",
    "def html_to_text(html_content):\n",
    "    soup = BeautifulSoup(html_content, \"html.parser\")  # Parse HTML\n",
    "    text = soup.get_text()  # Extract plain text\n",
    "    return text.replace('\\n', ' ')\n",
    "\n",
    "def clean_text(content):\n",
    "    return content.replace('\\n', ' ')"
   ]
  },
  {
   "cell_type": "code",
   "execution_count": 5,
   "metadata": {},
   "outputs": [],
   "source": [
    "import json\n",
    "\n",
    "with open('documents/car_page_upstage_ver.json', 'r') as file:\n",
    "    data = json.load(file)\n",
    "\n",
    "data = {k: html_to_text(v) for k, v in data.items()}\n",
    "\n",
    "with open('documents/car_page_upstage_ver_text.json', 'w') as file:\n",
    "    json.dump(data, file, ensure_ascii=False)"
   ]
  },
  {
   "cell_type": "code",
   "execution_count": 37,
   "metadata": {},
   "outputs": [],
   "source": [
    "import pandas as pd\n",
    "\n",
    "df = pd.read_excel('documents/QnA_car_sample_30_context_labeling.xlsx')\n",
    "df = df.dropna(subset=['ground truth page content'])\n",
    "df = df.assign(**{\n",
    "    'ground truth page content': df['ground truth page content'].fillna('').apply(html_to_text)\n",
    "})\n",
    "df.to_excel('documents/QnA_car_sample_30_context_labeling_text.xlsx', index=False)"
   ]
  },
  {
   "cell_type": "markdown",
   "metadata": {},
   "source": [
    "### HyDE"
   ]
  },
  {
   "cell_type": "code",
   "execution_count": 19,
   "metadata": {},
   "outputs": [],
   "source": [
    "from modules.config_loader import load_config\n",
    "import os\n",
    "\n",
    "config = load_config('config/config.yaml')\n",
    "\n",
    "os.environ['LANGCHAIN_TRACING_V2'] = config['langchain']['tracing_v2']\n",
    "os.environ['LANGCHAIN_ENDPOINT'] = config['langchain']['endpoint']\n",
    "os.environ['LANGCHAIN_API_KEY'] = config['langchain']['api_key']\n",
    "\n",
    "os.environ['OPENAI_API_KEY'] = config['openai']['api_key']"
   ]
  },
  {
   "cell_type": "code",
   "execution_count": 52,
   "metadata": {},
   "outputs": [
    {
     "data": {
      "text/plain": [
       "\"고객님께서 가입하신 자동차 보험 약관에 따라, 태풍과 같은 자연재해로 인한 차량 피해는 보상 대상에 포함될 수 있습니다. 자연재해로 인한 손해는 일반적으로 '자기차량손해' 담보에 의해 보상되며, 이는 고객님께서 해당 담보를 선택하여 가입하신 경우에 한합니다. 보상 범위와 한도는 가입하신 보험 상품의 세부 조건에 따라 다를 수 있으므로, 구체적인 보상 가능 여부와 절차에 대해서는 보험 증권 및 약관을 참조하시거나, 당사 고객센터로 문의해 주시기 바랍니다.\""
      ]
     },
     "execution_count": 52,
     "metadata": {},
     "output_type": "execute_result"
    }
   ],
   "source": [
    "from langchain.prompts import ChatPromptTemplate\n",
    "\n",
    "prompt = \"\"\"해당 질문에 답하기 위한 보험 약관 단락을 작성해주세요.\n",
    "질문: {question}\n",
    "단락:\"\"\"\n",
    "prompt_hyde = ChatPromptTemplate.from_template(prompt)\n",
    "\n",
    "from langchain_core.output_parsers import StrOutputParser\n",
    "from langchain_openai import ChatOpenAI\n",
    "\n",
    "llm = ChatOpenAI(model=config['openai']['gpt_model'], temperature=0)\n",
    "\n",
    "hyde_chain = prompt_hyde | llm | StrOutputParser()\n",
    "\n",
    "question = \"태풍으로 인한 차량피해를 입은 경우 보험처리가 되나요?\"\n",
    "generated_docs_for_retrieval = hyde_chain.invoke({\"question\": question})\n",
    "print(generated_docs_for_retrieval)"
   ]
  },
  {
   "cell_type": "code",
   "execution_count": 53,
   "metadata": {},
   "outputs": [],
   "source": [
    "from modules.dense_retrieval import CustomEmbeddings\n",
    "from modules.document_processor import DocumentProcessor\n",
    "from modules.qa_chain import QAChain\n",
    "import torch\n",
    "\n",
    "doc_processor = DocumentProcessor()\n",
    "docs, metadata = doc_processor.load_and_process_documents(\n",
    "    file_path=config['dataset']['document'],\n",
    "    mode=config['dataset']['document_type'],\n",
    "    do_chunking=config['preprocessing']['chunking'],\n",
    "    chunk_size=config['preprocessing']['chunk_size'],\n",
    "    chunk_overlap=config['preprocessing']['chunk_overlap']\n",
    ")\n",
    "\n",
    "faiss_index_path = config['dataset']['document'].replace(\n",
    "    '.json',\n",
    "    f\"_{config['dense_model']['model_type']}_\" +  # sts 또는 api 구분\n",
    "    ('chunk.bin' if config['preprocessing']['chunking'] else 'full.bin')\n",
    ")\n",
    "embedding_service = CustomEmbeddings(\n",
    "    model_type=config['dense_model']['model_type'],\n",
    "    model_path=config['dense_model']['model_cache'],\n",
    "    device=torch.device('cuda' if torch.cuda.is_available() else 'cpu'),\n",
    "    embedding_config=config,\n",
    "        faiss_index_path=faiss_index_path\n",
    "    )\n",
    "retriever = embedding_service.create_or_load_vectorstore(docs)"
   ]
  },
  {
   "cell_type": "code",
   "execution_count": 56,
   "metadata": {},
   "outputs": [
    {
     "name": "stdout",
     "output_type": "stream",
     "text": [
      "중 생긴 사고로 인한 손해제5조(보험금의 청구시 제출서류)피보험자가 보험금을 청구하고자 할 때에는 다음의 서류 등을 구비하여 보험금을 청구하여야 합니다.1. 보험금 청구서2. 손해액을 증명하는 서류(진단서 등)3. 사고가 발생한 때와 장소 및 사고사실이 신고된 관할 경찰서4. 배상의무자의 주소, 성명 또는 명칭, 차량번호5. 배상의무자의 「대인배상Ⅱ」 또는 공제계약의 유무 및 내용6. 피보험자가 입은 손해를 보상할 「대인배상Ⅱ」 또는 공제계약, 배상의무자또는 제3자로부터 이미 지급받은 손해배상금이 있을때 그 금액7. 그 밖에 보험회사가 꼭 필요하여 요청하는 서류 등제6조(준용규정)이 특별약관에서 정하지 아니한 사항은 보통약관에 따릅니다.104 특별약관간병비지원 특별약관제1조(적용대상)이 특별약관은 보통약관의 「자기신체사고」 또는 「자동차상해 특별약관」을 가입하고 「간병비지원 특별약관」에 가입한 경우에 적용됩니다.제2조(보상내용)보험회사는 피보험자가 피보험자동차를 소유, 사용,\n",
      "{'page': '54'}\n",
      "「자기신체사고」 또는 「자동차상해 특별약관」, 「무보험자동차에 의한 상해」, 「자기차량손해」 또는 「차량단독사고 손해보상 특별약관」의 손해에 대하여는 보험금을 지급합니다. 또한, 다음 중 어느 하나에 해당하는 손해에 대하여는 보험금을 지급합니다.1. 피보험자동차를 도난당하였을 경우 그 도난당하였을 때로부터 발견될 때까지의 사이에 발생된 피보험자동차의 사고로 인한 보통약관 「대인배상Ⅱ」,「대물배상」 또는 「대물배상 가입금액 확장특별약관」, 「자기신체사고」 또는「자동차상해 특별약관」, 「무보험자동차에 의한 상해」, 「자기차량손해」 또는「차량단독사고 손해보상 특별약관」의 손해2. 관련법규에 의해 사업자등록을 한 자동차 취급업자가 업무상 위탁받은 피보험자동차를 사용하거나 관리하던 중 발생된 피보험자동차의 사고로 인한보통약관 「대인배상Ⅱ」, 「대물배상」에서 보상하는 손해. 다만, 자동차 취급업자가 가입한 보험계약에서 보험금이 지급될 수 있는 경우에는 그 보험금을 초과하는 손해를 보상하고,\n",
      "{'page': '48'}\n",
      "경우에는다음의 산식에 따라 보험금을 지급합니다.제6조(보험금의 청구시 제출서류)피보험자가 보험금을 청구하고자 할 때에는 다음의 서류 등 보험회사가 꼭 필요하다고 인정하는 서류나 증거를 보험회사에 제출하여야 합니다.1. 교통사고 발생사실을 확인할 수 있는 서류2. 보험금 청구서3. 손해액을 증명하는 서류 (소장, 판결문, 선임한 변호사가 발행한 세금계산서 등)4. 기타 보험회사가 꼭 필요하다고 인정하는 서류 또는 증거제7조(피보험자동차 운전자 이외의 자의 보험금 청구)① 피보험자동차의 운전자가 사망, 구속, 형집행 등으로 보험금의 청구가 곤란한 경우에는 피보험자동차 운전자의 배우자, 자녀, 부모의 순위로 보험금을청구할 수 있습니다.② 제1항의 규정에 의하여 보험금을 지급하였을 때에는 피보험자동차의 운전자에게 보험금을 지급한 것으로 봅니다.제8조(준용규정)이 특별약관에서 정하지 아니한 사항은 보통약관에 따릅니다.벌금비용 지원(스쿨존 및 대물 확대형) 특별약관제1조(적용대상)이\n",
      "{'page': '79'}\n",
      "사고에 대하여는 보험금을 지급하지 않습니다.그러나 다음 중 어느 하나에 해당하는 손해에 대하여는 보험금을 지급합니다.1. 피보험자동차를 도난당하였을 경우 그 도난당하였을 때로부터 발견될 때까지의 사이에 발생된 피보험자동차의 사고로 인한 보통약관 「대인배상Ⅱ」,「대물배상」 또는 「대물배상 가입금액 확장 특별약관」, 「자기신체사고」 또는「자동차상해 특별약관」, 「자기차량손해」 또는 「차량단독사고 손해보상 특별약관」의 손해2. 관련법규에 의해 사업자등록을 한 자동차 취급업자가 업무상 위탁받은 피보험자동차를 사용하거나 관리하던 중 발생된 피보험자동차의 사고로 인한보통약관 「대인배상Ⅱ」, 「대물배상」에서 보상하는 손해. 다만, 자동차 취급업자가 가입한 보험계약에서 보험금이 지급될 수 있는 경우에는 그 보험금을 초과하는 손해를 보상하고, 대물배상의 경우 「자동차손해배상보장법」 제5조, 같은 법 시행령 제3조에서 정하는 금액을 한도로 합니다.제3조(준용규정)이 특별약관에서 정하지 아니한 사항은\n",
      "{'page': '52'}\n"
     ]
    }
   ],
   "source": [
    "retrieval_chain = hyde_chain | retriever.as_retriever()\n",
    "\n",
    "retrieved_docs = retrieval_chain.invoke({\"question\": question})\n",
    "\n",
    "for doc in retrieved_docs:\n",
    "    print(doc.page_content)\n",
    "    print(doc.metadata)"
   ]
  },
  {
   "cell_type": "code",
   "execution_count": 55,
   "metadata": {},
   "outputs": [
    {
     "data": {
      "text/plain": [
       "'제공된 문서에서는 태풍과 같은 자연재해로 인한 차량 피해에 대한 보험 처리 여부에 대한 정보가 명시되어 있지 않습니다. 일반적으로 자동차 보험 약관은 자연재해로 인한 손해를 보상하는지 여부를 명확히 규정하고 있으며, 이는 보험 상품과 약관에 따라 다를 수 있습니다. 따라서, 태풍으로 인한 차량 피해가 보험 처리 대상인지 확인하려면 해당 보험의 약관을 직접 확인하거나 보험사에 문의하는 것이 좋습니다.'"
      ]
     },
     "execution_count": 55,
     "metadata": {},
     "output_type": "execute_result"
    }
   ],
   "source": [
    "# RAG\n",
    "template = \"\"\"Answer the following question based on this context:\n",
    "\n",
    "{context}\n",
    "\n",
    "Question: {question}\n",
    "\"\"\"\n",
    "\n",
    "prompt = ChatPromptTemplate.from_template(template)\n",
    "\n",
    "final_rag_chain = (\n",
    "    prompt\n",
    "    | llm\n",
    "    | StrOutputParser()\n",
    ")\n",
    "\n",
    "final_rag_chain.invoke({\"context\":retrieved_docs,\"question\":question})"
   ]
  },
  {
   "cell_type": "code",
   "execution_count": null,
   "metadata": {},
   "outputs": [],
   "source": []
  }
 ],
 "metadata": {
  "kernelspec": {
   "display_name": "Python 3",
   "language": "python",
   "name": "python3"
  },
  "language_info": {
   "codemirror_mode": {
    "name": "ipython",
    "version": 3
   },
   "file_extension": ".py",
   "mimetype": "text/x-python",
   "name": "python",
   "nbconvert_exporter": "python",
   "pygments_lexer": "ipython3",
   "version": "3.11.7"
  }
 },
 "nbformat": 4,
 "nbformat_minor": 2
}
